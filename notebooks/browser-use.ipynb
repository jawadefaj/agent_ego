{
 "cells": [
  {
   "cell_type": "code",
   "execution_count": null,
   "metadata": {},
   "outputs": [],
   "source": [
    "# add current path to sys.path\n",
    "import sys\n",
    "sys.path.append(r'C:\\Users\\abjaw\\OneDrive\\Documents\\GitHub\\agent_ego')\n",
    "\n",
    "from langchain_openai import ChatOpenAI\n",
    "from langchain_deepseek import ChatDeepSeek\n",
    "from browser_use import Agent, Browser, BrowserConfig\n",
    "import asyncio\n",
    "from utils import load_config\n",
    "from playwright.async_api import async_playwright # aynchronus version of playwright\n",
    "\n",
    "if sys.platform == \"win32\":\n",
    "    loop = asyncio.ProactorEventLoop()\n",
    "    asyncio.set_event_loop(loop)\n",
    "\n",
    "import os\n",
    "os.environ[\"ANONYMIZED_TELEMETRY\"] = \"false\"\n",
    "os.environ[\"BROWSER_USE_LOGGING_LEVEL\"] = \"DEBUG\"\n",
    "config_path = \"../config.yaml\"\n",
    "\n",
    "config = load_config(config_path)\n",
    "\n",
    "print(config)"
   ]
  },
  {
   "cell_type": "code",
   "execution_count": null,
   "metadata": {},
   "outputs": [],
   "source": [
    "browser_config = config['browser']\n",
    "agent_config = config[\"agent\"]\n",
    "chat_llm_config = config[\"agent\"][\"chat\"]\n",
    "\n",
    "print(browser_config)"
   ]
  },
  {
   "cell_type": "code",
   "execution_count": null,
   "metadata": {},
   "outputs": [],
   "source": []
  },
  {
   "cell_type": "code",
   "execution_count": null,
   "metadata": {},
   "outputs": [],
   "source": [
    "# browser_config = BrowserConfig(chrome_instance_path=browser_config['chrome_instance_path'],\n",
    "#                        headless=browser_config['headless'],\n",
    "#                        disable_security=browser_config['disable_security'])\n",
    "# browser = Browser(browser_config)\n",
    "\n",
    "browser = await async_playwright.chromium.launch(headless=False)"
   ]
  },
  {
   "cell_type": "code",
   "execution_count": null,
   "metadata": {},
   "outputs": [],
   "source": [
    "llm = ChatDeepSeek(\n",
    "    model=chat_llm_config[\"model\"],\n",
    "    temperature=chat_llm_config[\"temperature\"],\n",
    "    max_tokens=chat_llm_config[\"max_tokens\"],\n",
    "    timeout=30,\n",
    "    max_retries=3,\n",
    "    api_key=chat_llm_config[\"api_key\"],\n",
    ")\n",
    "\n"
   ]
  },
  {
   "cell_type": "code",
   "execution_count": null,
   "metadata": {},
   "outputs": [],
   "source": [
    "agent = Agent(task=\"search the distance between San Francisco and Los Angeles\",\n",
    "              llm=llm,\n",
    "              browser=browser,\n",
    "              max_actions_per_step=5,\n",
    "            )\n",
    "result = await agent.run()\n",
    "print(result)"
   ]
  }
 ],
 "metadata": {
  "kernelspec": {
   "display_name": "ego-agent-1",
   "language": "python",
   "name": "python3"
  },
  "language_info": {
   "codemirror_mode": {
    "name": "ipython",
    "version": 3
   },
   "file_extension": ".py",
   "mimetype": "text/x-python",
   "name": "python",
   "nbconvert_exporter": "python",
   "pygments_lexer": "ipython3",
   "version": "3.13.2"
  }
 },
 "nbformat": 4,
 "nbformat_minor": 2
}
